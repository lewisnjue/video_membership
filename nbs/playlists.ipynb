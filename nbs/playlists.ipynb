{
 "cells": [
  {
   "cell_type": "code",
   "execution_count": 1,
   "id": "545e1bc5-9c3e-448a-9768-024f5fc407c3",
   "metadata": {},
   "outputs": [
    {
     "name": "stdout",
     "output_type": "stream",
     "text": [
      "'drop database.ipynb'\t\t 'user data varidation with pydantic.ipynb'\n",
      "'expelimentiong with jwt.ipynb'  'users and analyze features.ipynb'\n",
      " playlists.ipynb\t\t  video_test.ipynb\n",
      " requirements.dev.txt\n"
     ]
    }
   ],
   "source": [
    "!ls\n"
   ]
  },
  {
   "cell_type": "code",
   "execution_count": 2,
   "id": "c7d8b013-e6a5-4d6e-9362-5a747cc52b2d",
   "metadata": {},
   "outputs": [
    {
     "name": "stdout",
     "output_type": "stream",
     "text": [
      "/home/lewis/dev/video_membership\n"
     ]
    },
    {
     "name": "stderr",
     "output_type": "stream",
     "text": [
      "/home/lewis/dev/video_membership/env/lib/python3.10/site-packages/IPython/core/magics/osm.py:393: UserWarning: This is now an optional IPython functionality, using bookmarks requires you to install the `pickleshare` library.\n",
      "  bkms = self.shell.db.get('bookmarks', {})\n",
      "/home/lewis/dev/video_membership/env/lib/python3.10/site-packages/IPython/core/magics/osm.py:417: UserWarning: This is now an optional IPython functionality, setting dhist requires you to install the `pickleshare` library.\n",
      "  self.shell.db['dhist'] = compress_dhist(dhist)[-100:]\n"
     ]
    }
   ],
   "source": [
    "%cd ~/dev/video_membership/"
   ]
  },
  {
   "cell_type": "code",
   "execution_count": 3,
   "id": "7db5a7a3-bd5b-4b13-a643-ad5aa2d47408",
   "metadata": {},
   "outputs": [
    {
     "name": "stdout",
     "output_type": "stream",
     "text": [
      "app\t\tenv  pytest.ini        tests\n",
      "connect_bundle\tnbs  requirements.txt  video_membership.code-workspace\n"
     ]
    }
   ],
   "source": [
    "!ls\n"
   ]
  },
  {
   "cell_type": "code",
   "execution_count": 4,
   "id": "6865495c-d2dc-407a-b2fb-9302f2c784d8",
   "metadata": {},
   "outputs": [],
   "source": [
    "from app import db\n",
    "from app.videos.models import Video\n",
    "from cassandra.cqlengine.management import sync_table\n",
    "from app.users.models import User\n",
    "from app.playlists.models import Playlist\n",
    "from app import config\n",
    "import datetime"
   ]
  },
  {
   "cell_type": "code",
   "execution_count": 5,
   "id": "45ec8c59-3997-42dd-b69f-a2b3bf0995db",
   "metadata": {},
   "outputs": [],
   "source": [
    "session = db.get_session()\n"
   ]
  },
  {
   "cell_type": "code",
   "execution_count": 6,
   "id": "6ce47ef4-d152-4b7f-b50c-12b5f0d7a031",
   "metadata": {},
   "outputs": [],
   "source": [
    "settings = config.get_settings()\n",
    "allow_table_drop = True"
   ]
  },
  {
   "cell_type": "code",
   "execution_count": 7,
   "id": "8b531f58-b1fe-4135-bce9-5a43f4ff9506",
   "metadata": {},
   "outputs": [],
   "source": [
    "if allow_table_drop:\n",
    "    session.execute(f\"DROP TABLE IF EXISTS  {settings.keyspace}.Playlist\")"
   ]
  },
  {
   "cell_type": "code",
   "execution_count": 8,
   "id": "e6143742-d17c-45ee-8b62-29691990b020",
   "metadata": {},
   "outputs": [],
   "source": [
    "sync_table(Video)\n",
    "sync_table(Playlist)"
   ]
  },
  {
   "cell_type": "code",
   "execution_count": 9,
   "id": "49f48362-f8be-40f6-bbc1-ae026eb7b44f",
   "metadata": {},
   "outputs": [
    {
     "data": {
      "text/plain": [
       "Playlist(db_id=UUID('777de2b4-99d4-11ef-a70c-fcf8aedaa025'), user_id=None, updated=datetime.datetime(2024, 11, 3, 11, 11, 54, 535605), host_ids=[], title='hello world')"
      ]
     },
     "execution_count": 9,
     "metadata": {},
     "output_type": "execute_result"
    }
   ],
   "source": [
    "obj = Playlist.objects.create(title = \"hello world\")\n",
    "obj"
   ]
  },
  {
   "cell_type": "code",
   "execution_count": 10,
   "id": "cda3ad02-5026-448a-996e-20efc384f7ea",
   "metadata": {},
   "outputs": [
    {
     "data": {
      "text/plain": [
       "Playlist(db_id=UUID('777de2b4-99d4-11ef-a70c-fcf8aedaa025'), user_id=None, updated=datetime.datetime(2024, 11, 3, 11, 12, 9, 20332), host_ids=[], title='hello world')"
      ]
     },
     "execution_count": 10,
     "metadata": {},
     "output_type": "execute_result"
    }
   ],
   "source": [
    "obj.updated = datetime.datetime.utcnow()\n",
    "obj.save()"
   ]
  },
  {
   "cell_type": "code",
   "execution_count": 11,
   "id": "ab52db69-23b5-4eee-9e53-c1fed3a5e1ee",
   "metadata": {},
   "outputs": [
    {
     "data": {
      "text/plain": [
       "Playlist(db_id=UUID('777de2b4-99d4-11ef-a70c-fcf8aedaa025'), user_id=None, updated=datetime.datetime(2024, 11, 3, 11, 12, 9, 20332), host_ids=['some new lsit'], title='hello world')"
      ]
     },
     "execution_count": 11,
     "metadata": {},
     "output_type": "execute_result"
    }
   ],
   "source": [
    "obj.host_ids = ['some new lsit']\n",
    "obj.save()"
   ]
  },
  {
   "cell_type": "code",
   "execution_count": 12,
   "id": "33651ce6-e5f7-4eef-bb00-e793e2ad1aac",
   "metadata": {},
   "outputs": [],
   "source": [
    "host_ids = list(Video.objects.all().limit(5).values_list(\"host_id\",flat=True))"
   ]
  },
  {
   "cell_type": "code",
   "execution_count": 13,
   "id": "404d34db-8935-4137-99db-a5d3d5f4184f",
   "metadata": {},
   "outputs": [
    {
     "data": {
      "text/plain": [
       "True"
      ]
     },
     "execution_count": 13,
     "metadata": {},
     "output_type": "execute_result"
    }
   ],
   "source": [
    "obj.add_host_ids(host_ids=host_ids)"
   ]
  },
  {
   "cell_type": "code",
   "execution_count": 14,
   "id": "7222ee85-0597-4163-a340-5b4afe83d008",
   "metadata": {},
   "outputs": [],
   "source": [
    "video_q = list(Video.objects.filter(host_id__in=obj.host_ids))"
   ]
  },
  {
   "cell_type": "code",
   "execution_count": 15,
   "id": "8483d4e8-89e8-4612-9327-4de1cf5e6b29",
   "metadata": {},
   "outputs": [
    {
     "data": {
      "text/plain": [
       "[title:None,urlhttps://www.youtube.com/watch?v=Ap8jTCMK3c4,\n",
       " title:None,urlhttps://www.youtube.com/watch?v=H1XxUZAOT34,\n",
       " title:None,urlhttps://www.youtube.com/watch?v=Nllgz51TcLw,\n",
       " title:None,urlhttps://www.youtube.com/watch?v=hRi_Xrs73yw,\n",
       " title:None,urlhttps://www.youtube.com/watch?v=pabciQ-MJD0]"
      ]
     },
     "execution_count": 15,
     "metadata": {},
     "output_type": "execute_result"
    }
   ],
   "source": [
    "video_q"
   ]
  },
  {
   "cell_type": "code",
   "execution_count": 16,
   "id": "9c6c09dc-5b68-4ac4-8fe6-25ed16c97192",
   "metadata": {},
   "outputs": [
    {
     "name": "stdout",
     "output_type": "stream",
     "text": [
      "[title:None,urlhttps://www.youtube.com/watch?v=hRi_Xrs73yw]\n"
     ]
    }
   ],
   "source": [
    "print(obj.get_videos())"
   ]
  },
  {
   "cell_type": "code",
   "execution_count": null,
   "id": "cf2ee552-3fe7-4e53-97dd-98fef3562a91",
   "metadata": {},
   "outputs": [],
   "source": []
  }
 ],
 "metadata": {
  "kernelspec": {
   "display_name": "Python 3 (ipykernel)",
   "language": "python",
   "name": "python3"
  },
  "language_info": {
   "codemirror_mode": {
    "name": "ipython",
    "version": 3
   },
   "file_extension": ".py",
   "mimetype": "text/x-python",
   "name": "python",
   "nbconvert_exporter": "python",
   "pygments_lexer": "ipython3",
   "version": "3.10.12"
  }
 },
 "nbformat": 4,
 "nbformat_minor": 5
}
