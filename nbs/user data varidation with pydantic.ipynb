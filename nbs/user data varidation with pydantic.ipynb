{
 "cells": [
  {
   "cell_type": "code",
   "execution_count": 19,
   "id": "a6a1bb04-662d-448e-803c-786619a929ed",
   "metadata": {},
   "outputs": [
    {
     "name": "stdout",
     "output_type": "stream",
     "text": [
      "app\t\tenv  pytest.ini        tests\n",
      "connect_bundle\tnbs  requirements.txt  video_membership.code-workspace\n"
     ]
    }
   ],
   "source": [
    "!ls"
   ]
  },
  {
   "cell_type": "code",
   "execution_count": 20,
   "id": "4af66c63-25d9-48b5-b562-4cf20acfbaba",
   "metadata": {},
   "outputs": [
    {
     "name": "stdout",
     "output_type": "stream",
     "text": [
      "[Errno 2] No such file or directory: 'video_membership/'\n",
      "/home/lewis/dev/video_membership\n"
     ]
    },
    {
     "name": "stderr",
     "output_type": "stream",
     "text": [
      "/home/lewis/dev/video_membership/env/lib/python3.10/site-packages/IPython/core/magics/osm.py:393: UserWarning: This is now an optional IPython functionality, using bookmarks requires you to install the `pickleshare` library.\n",
      "  bkms = self.shell.db.get('bookmarks', {})\n"
     ]
    }
   ],
   "source": [
    "%cd video_membership/"
   ]
  },
  {
   "cell_type": "code",
   "execution_count": 21,
   "id": "d0140402-7414-4664-8410-e66843c7a855",
   "metadata": {},
   "outputs": [
    {
     "name": "stdout",
     "output_type": "stream",
     "text": [
      "app\t\tenv  pytest.ini        tests\n",
      "connect_bundle\tnbs  requirements.txt  video_membership.code-workspace\n"
     ]
    }
   ],
   "source": [
    "!ls\n"
   ]
  },
  {
   "cell_type": "code",
   "execution_count": 22,
   "id": "dd9201d1-7217-464a-b21d-a9331ff3397f",
   "metadata": {},
   "outputs": [],
   "source": [
    "from app import db\n",
    "from app.users.models import User\n",
    "from cassandra.cqlengine.management import sync_table"
   ]
  },
  {
   "cell_type": "code",
   "execution_count": 23,
   "id": "8e23583c-8d71-4146-893f-cd02c06ba260",
   "metadata": {},
   "outputs": [],
   "source": [
    "db.get_session()\n",
    "sync_table(User)"
   ]
  },
  {
   "cell_type": "code",
   "execution_count": 33,
   "id": "761b226a-568f-4ce8-86ef-29fb99c49744",
   "metadata": {},
   "outputs": [],
   "source": [
    "post_data = {\n",
    "    \"email\":\"lewiskinyuanjue.ke@gmail.com\",\n",
    "    \"password\":\"abc123\"\n",
    "}"
   ]
  },
  {
   "cell_type": "code",
   "execution_count": 84,
   "id": "513c3b88-9e50-42eb-aff4-36b9f2e578b8",
   "metadata": {},
   "outputs": [],
   "source": [
    "from pydantic.v1 import BaseModel,EmailStr,SecretStr,validator"
   ]
  },
  {
   "cell_type": "code",
   "execution_count": 85,
   "id": "265ea0ac-43d5-4515-aa41-a7e7073630c3",
   "metadata": {},
   "outputs": [],
   "source": [
    "class UserLoginSchema(BaseModel):\n",
    "    email : EmailStr\n",
    "    password: SecretStr\n"
   ]
  },
  {
   "cell_type": "code",
   "execution_count": 86,
   "id": "c04de0da-aa64-4c9d-b843-0bce080716b7",
   "metadata": {},
   "outputs": [
    {
     "data": {
      "text/plain": [
       "UserLoginSchema(email='lewiskinyuanjue.ke@gmail.com', password=SecretStr('**********'))"
      ]
     },
     "execution_count": 86,
     "metadata": {},
     "output_type": "execute_result"
    }
   ],
   "source": [
    "UserLoginSchema(**post_data)"
   ]
  },
  {
   "cell_type": "code",
   "execution_count": 92,
   "id": "0713f92c-fb0a-4581-b683-35a5e7d4b1a0",
   "metadata": {},
   "outputs": [],
   "source": [
    "\n",
    "\n",
    "class UserSignupSchema(BaseModel):\n",
    "    email: EmailStr\n",
    "    password: SecretStr\n",
    "    password_confirm: SecretStr\n",
    "\n",
    "    @validator('email')\n",
    "    def email_available(cls,v,values,**kwargs):\n",
    "        q = User.objects.filter(email=v)\n",
    "        if q.count() != 0:\n",
    "            raise ValueError(\"email not available\")\n",
    "        else:\n",
    "            return v            \n",
    "\n",
    "    @validator('password_confirm')\n",
    "    def password_match(cls, v, values):\n",
    "        if 'password' in values:\n",
    "            if v != values['password']:\n",
    "                raise ValueError('Passwords do not match')\n",
    "        return v\n",
    "\n",
    "    def __init__(self, **data):\n",
    "        super().__init__(**data)\n",
    "        if self.password != self.password_confirm:\n",
    "            raise ValueError('Passwords do not match')\n",
    "    \n",
    "    "
   ]
  },
  {
   "cell_type": "code",
   "execution_count": 93,
   "id": "36ff152c-60bf-4dcc-8386-4915829300ad",
   "metadata": {},
   "outputs": [],
   "source": [
    "data = UserSignupSchema(email=\"lewisada@gmail.com\",password=\"1234\",password_confirm=\"1234\")"
   ]
  },
  {
   "cell_type": "code",
   "execution_count": 89,
   "id": "82d56b39-c236-4433-870c-c775bdbe8621",
   "metadata": {},
   "outputs": [
    {
     "data": {
      "text/plain": [
       "{'email': 'lewis@gmail.com',\n",
       " 'password': SecretStr('**********'),\n",
       " 'password_confirm': SecretStr('**********')}"
      ]
     },
     "execution_count": 89,
     "metadata": {},
     "output_type": "execute_result"
    }
   ],
   "source": [
    "data.dict()"
   ]
  },
  {
   "cell_type": "code",
   "execution_count": 94,
   "id": "4ddf6328-50cf-4b74-91db-b82f92898a9d",
   "metadata": {},
   "outputs": [
    {
     "data": {
      "text/plain": [
       "'1234'"
      ]
     },
     "execution_count": 94,
     "metadata": {},
     "output_type": "execute_result"
    }
   ],
   "source": [
    "data.dict()['password'].get_secret_value()"
   ]
  },
  {
   "cell_type": "code",
   "execution_count": 96,
   "id": "36f091cd-2525-47c8-89d4-e120451fa303",
   "metadata": {},
   "outputs": [
    {
     "data": {
      "text/plain": [
       "['__abstractmethods__',\n",
       " '__annotations__',\n",
       " '__class__',\n",
       " '__delattr__',\n",
       " '__dict__',\n",
       " '__dir__',\n",
       " '__doc__',\n",
       " '__eq__',\n",
       " '__format__',\n",
       " '__ge__',\n",
       " '__get_validators__',\n",
       " '__getattribute__',\n",
       " '__gt__',\n",
       " '__hash__',\n",
       " '__init__',\n",
       " '__init_subclass__',\n",
       " '__le__',\n",
       " '__len__',\n",
       " '__lt__',\n",
       " '__modify_schema__',\n",
       " '__module__',\n",
       " '__ne__',\n",
       " '__new__',\n",
       " '__reduce__',\n",
       " '__reduce_ex__',\n",
       " '__repr__',\n",
       " '__setattr__',\n",
       " '__sizeof__',\n",
       " '__slots__',\n",
       " '__str__',\n",
       " '__subclasshook__',\n",
       " '__weakref__',\n",
       " '_abc_impl',\n",
       " '_secret_value',\n",
       " 'display',\n",
       " 'get_secret_value',\n",
       " 'max_length',\n",
       " 'min_length',\n",
       " 'validate']"
      ]
     },
     "execution_count": 96,
     "metadata": {},
     "output_type": "execute_result"
    }
   ],
   "source": [
    "dir(data.dict()['password'])"
   ]
  },
  {
   "cell_type": "code",
   "execution_count": null,
   "id": "d93de9b9-c374-40ff-b1dc-d02418b51b25",
   "metadata": {},
   "outputs": [],
   "source": []
  }
 ],
 "metadata": {
  "kernelspec": {
   "display_name": "Python 3 (ipykernel)",
   "language": "python",
   "name": "python3"
  },
  "language_info": {
   "codemirror_mode": {
    "name": "ipython",
    "version": 3
   },
   "file_extension": ".py",
   "mimetype": "text/x-python",
   "name": "python",
   "nbconvert_exporter": "python",
   "pygments_lexer": "ipython3",
   "version": "3.10.12"
  }
 },
 "nbformat": 4,
 "nbformat_minor": 5
}
