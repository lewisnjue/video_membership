{
 "cells": [
  {
   "cell_type": "code",
   "execution_count": 23,
   "id": "ef2d550d-3503-4a0c-9996-e7373407caa8",
   "metadata": {},
   "outputs": [
    {
     "name": "stdout",
     "output_type": "stream",
     "text": [
      "/home/lewis/dev/video_membership\n"
     ]
    }
   ],
   "source": [
    "!pwd"
   ]
  },
  {
   "cell_type": "code",
   "execution_count": 24,
   "id": "e915a133-2b3a-4fca-8528-b90c85e12158",
   "metadata": {},
   "outputs": [
    {
     "name": "stdout",
     "output_type": "stream",
     "text": [
      "app\t\tenv  requirements.txt\n",
      "connect_bundle\tnbs  video_membership.code-workspace\n"
     ]
    }
   ],
   "source": [
    "!ls\n"
   ]
  },
  {
   "cell_type": "code",
   "execution_count": 25,
   "id": "2c9dbbd3-9429-431d-9d32-09bea568698a",
   "metadata": {},
   "outputs": [],
   "source": [
    "from app.users.models import User\n",
    "from app import db\n",
    "from cassandra.cqlengine.management import sync_table"
   ]
  },
  {
   "cell_type": "code",
   "execution_count": 26,
   "id": "5f1c49ed-e3d4-40f5-bd8a-55ceb5a7697f",
   "metadata": {},
   "outputs": [],
   "source": [
    "db.get_session()\n",
    "sync_table(User)"
   ]
  },
  {
   "cell_type": "code",
   "execution_count": 27,
   "id": "18850cd8-7e9a-4e63-8a9f-8efe793c9a7b",
   "metadata": {},
   "outputs": [],
   "source": [
    "#User.create_user(\"lewisgmail.com\",password='123456')"
   ]
  },
  {
   "cell_type": "code",
   "execution_count": 28,
   "id": "c9d744b3-7f3c-47b2-8b02-6b564551dcfa",
   "metadata": {},
   "outputs": [
    {
     "ename": "Exception",
     "evalue": "user already has account",
     "output_type": "error",
     "traceback": [
      "\u001b[0;31m---------------------------------------------------------------------------\u001b[0m",
      "\u001b[0;31mException\u001b[0m                                 Traceback (most recent call last)",
      "Cell \u001b[0;32mIn[28], line 1\u001b[0m\n\u001b[0;32m----> 1\u001b[0m user \u001b[38;5;241m=\u001b[39m \u001b[43mUser\u001b[49m\u001b[38;5;241;43m.\u001b[39;49m\u001b[43mcreate_user\u001b[49m\u001b[43m(\u001b[49m\u001b[38;5;124;43m\"\u001b[39;49m\u001b[38;5;124;43mlewiskinyuanjue254@gmail.com\u001b[39;49m\u001b[38;5;124;43m\"\u001b[39;49m\u001b[43m,\u001b[49m\u001b[43mpassword\u001b[49m\u001b[38;5;241;43m=\u001b[39;49m\u001b[38;5;124;43m\"\u001b[39;49m\u001b[38;5;124;43mdrlewis254\u001b[39;49m\u001b[38;5;124;43m\"\u001b[39;49m\u001b[43m)\u001b[49m\n",
      "File \u001b[0;32m~/dev/video_membership/app/users/models.py:42\u001b[0m, in \u001b[0;36mUser.create_user\u001b[0;34m(email, password)\u001b[0m\n\u001b[1;32m     40\u001b[0m q \u001b[38;5;241m=\u001b[39m User\u001b[38;5;241m.\u001b[39mobjects\u001b[38;5;241m.\u001b[39mfilter(email\u001b[38;5;241m=\u001b[39memail) \n\u001b[1;32m     41\u001b[0m \u001b[38;5;28;01mif\u001b[39;00m q\u001b[38;5;241m.\u001b[39mcount() \u001b[38;5;241m!=\u001b[39m \u001b[38;5;241m0\u001b[39m:\n\u001b[0;32m---> 42\u001b[0m     \u001b[38;5;28;01mraise\u001b[39;00m \u001b[38;5;167;01mException\u001b[39;00m(\u001b[38;5;124m\"\u001b[39m\u001b[38;5;124muser already has account\u001b[39m\u001b[38;5;124m\"\u001b[39m)\n\u001b[1;32m     43\u001b[0m valid , msg , email \u001b[38;5;241m=\u001b[39m validators\u001b[38;5;241m.\u001b[39m_validate_email(email)\n\u001b[1;32m     44\u001b[0m \u001b[38;5;28;01mif\u001b[39;00m \u001b[38;5;129;01mnot\u001b[39;00m valid:\n",
      "\u001b[0;31mException\u001b[0m: user already has account"
     ]
    }
   ],
   "source": [
    "#user = User.create_user(\"lewiskinyuanjue254@gmail.com\",password=\"drlewis254\")"
   ]
  },
  {
   "cell_type": "raw",
   "id": "4a79ab10-bc2a-42d0-b5ad-657b255c93cb",
   "metadata": {},
   "source": [
    "user = User.object.get(email='lewiskinyuanjue254@gmail.com')"
   ]
  },
  {
   "cell_type": "code",
   "execution_count": 30,
   "id": "d40ccc4a-4f73-45ac-b8da-1ce9df9baeb4",
   "metadata": {},
   "outputs": [
    {
     "data": {
      "text/plain": [
       "False"
      ]
     },
     "execution_count": 30,
     "metadata": {},
     "output_type": "execute_result"
    }
   ],
   "source": [
    "user.verify_password('drlew254')"
   ]
  },
  {
   "cell_type": "code",
   "execution_count": null,
   "id": "d8416c9e-96c5-431d-ab44-67262d10700d",
   "metadata": {},
   "outputs": [],
   "source": []
  },
  {
   "cell_type": "code",
   "execution_count": null,
   "id": "0361014b-4da9-4017-a6b6-7b638494799b",
   "metadata": {},
   "outputs": [],
   "source": []
  },
  {
   "cell_type": "code",
   "execution_count": null,
   "id": "f336b214-6d48-46b9-986c-9706fb1e336b",
   "metadata": {},
   "outputs": [],
   "source": []
  },
  {
   "cell_type": "code",
   "execution_count": null,
   "id": "d9b13b26-47d2-477f-9536-7a892d22ca76",
   "metadata": {},
   "outputs": [],
   "source": []
  },
  {
   "cell_type": "code",
   "execution_count": null,
   "id": "b5239c8d-34a1-4453-bd11-f4264e1ce512",
   "metadata": {},
   "outputs": [],
   "source": []
  },
  {
   "cell_type": "code",
   "execution_count": null,
   "id": "c86c85d1-bbfc-419a-9fd0-c5b125eb2f42",
   "metadata": {},
   "outputs": [],
   "source": []
  }
 ],
 "metadata": {
  "kernelspec": {
   "display_name": "Python 3 (ipykernel)",
   "language": "python",
   "name": "python3"
  },
  "language_info": {
   "codemirror_mode": {
    "name": "ipython",
    "version": 3
   },
   "file_extension": ".py",
   "mimetype": "text/x-python",
   "name": "python",
   "nbconvert_exporter": "python",
   "pygments_lexer": "ipython3",
   "version": "3.10.12"
  }
 },
 "nbformat": 4,
 "nbformat_minor": 5
}
