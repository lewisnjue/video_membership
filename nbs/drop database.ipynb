{
 "cells": [
  {
   "cell_type": "code",
   "execution_count": 1,
   "id": "545e1bc5-9c3e-448a-9768-024f5fc407c3",
   "metadata": {},
   "outputs": [
    {
     "name": "stdout",
     "output_type": "stream",
     "text": [
      "'drop database.ipynb'\t\t 'user data varidation with pydantic.ipynb'\n",
      "'expelimentiong with jwt.ipynb'  'users and analyze features.ipynb'\n",
      " requirements.dev.txt\t\t  video_test.ipynb\n"
     ]
    }
   ],
   "source": [
    "!ls\n"
   ]
  },
  {
   "cell_type": "code",
   "execution_count": 31,
   "id": "c7d8b013-e6a5-4d6e-9362-5a747cc52b2d",
   "metadata": {},
   "outputs": [
    {
     "name": "stdout",
     "output_type": "stream",
     "text": [
      "/home/lewis/dev/video_membership\n"
     ]
    },
    {
     "name": "stderr",
     "output_type": "stream",
     "text": [
      "/home/lewis/dev/video_membership/env/lib/python3.10/site-packages/IPython/core/magics/osm.py:393: UserWarning: This is now an optional IPython functionality, using bookmarks requires you to install the `pickleshare` library.\n",
      "  bkms = self.shell.db.get('bookmarks', {})\n",
      "/home/lewis/dev/video_membership/env/lib/python3.10/site-packages/IPython/core/magics/osm.py:417: UserWarning: This is now an optional IPython functionality, setting dhist requires you to install the `pickleshare` library.\n",
      "  self.shell.db['dhist'] = compress_dhist(dhist)[-100:]\n"
     ]
    }
   ],
   "source": [
    "%cd ~/dev/video_membership/"
   ]
  },
  {
   "cell_type": "code",
   "execution_count": 32,
   "id": "7db5a7a3-bd5b-4b13-a643-ad5aa2d47408",
   "metadata": {},
   "outputs": [
    {
     "name": "stdout",
     "output_type": "stream",
     "text": [
      "app\t\tenv  pytest.ini        tests\n",
      "connect_bundle\tnbs  requirements.txt  video_membership.code-workspace\n"
     ]
    }
   ],
   "source": [
    "!ls\n"
   ]
  },
  {
   "cell_type": "code",
   "execution_count": 33,
   "id": "6865495c-d2dc-407a-b2fb-9302f2c784d8",
   "metadata": {},
   "outputs": [],
   "source": [
    "from app import db,config\n",
    "from app.videos.models import Video\n",
    "from cassandra.cqlengine.management import sync_table\n",
    "from app.users.models import User\n",
    "\n",
    "from app.watch_events.models import WatchEvent"
   ]
  },
  {
   "cell_type": "code",
   "execution_count": 34,
   "id": "17e0dcfd-83af-40f2-a7a7-ba65d7ac4f92",
   "metadata": {},
   "outputs": [],
   "source": [
    "session = db.get_session()"
   ]
  },
  {
   "cell_type": "code",
   "execution_count": 35,
   "id": "47f6a527-0ee2-4db2-a23b-4e7d4d35c432",
   "metadata": {},
   "outputs": [],
   "source": [
    "settings = config.get_settings()"
   ]
  },
  {
   "cell_type": "code",
   "execution_count": 41,
   "id": "e2ba741e-e550-4a8f-b457-88c38c279f78",
   "metadata": {},
   "outputs": [
    {
     "name": "stdout",
     "output_type": "stream",
     "text": [
      "{'host_id': 'H1XxUZAOT34', 'event_id': UUID('3faba41c-99b5-11ef-a0e4-fcf8aedaa025'), 'user_id': UUID('ad99fbe2-9616-11ef-8b98-fcf8aedaa025'), 'complete': False, 'duration': 500.0, 'end_time': 168.810993, 'path': None, 'start_time': 0.0}\n",
      "{'host_id': 'H1XxUZAOT34', 'event_id': UUID('3dc4d7c2-99b5-11ef-a0e4-fcf8aedaa025'), 'user_id': UUID('ad99fbe2-9616-11ef-8b98-fcf8aedaa025'), 'complete': False, 'duration': 500.0, 'end_time': 165.8592135416667, 'path': None, 'start_time': 0.0}\n",
      "{'host_id': 'H1XxUZAOT34', 'event_id': UUID('3adfc85a-99b5-11ef-a0e4-fcf8aedaa025'), 'user_id': UUID('ad99fbe2-9616-11ef-8b98-fcf8aedaa025'), 'complete': False, 'duration': 500.0, 'end_time': 31.120153, 'path': None, 'start_time': 0.0}\n",
      "{'host_id': 'H1XxUZAOT34', 'event_id': UUID('382adc1c-99b5-11ef-a0e4-fcf8aedaa025'), 'user_id': UUID('ad99fbe2-9616-11ef-8b98-fcf8aedaa025'), 'complete': False, 'duration': 500.0, 'end_time': 28.537772, 'path': None, 'start_time': 0.0}\n",
      "{'host_id': 'H1XxUZAOT34', 'event_id': UUID('352ad2a6-99b5-11ef-a0e4-fcf8aedaa025'), 'user_id': UUID('ad99fbe2-9616-11ef-8b98-fcf8aedaa025'), 'complete': False, 'duration': 500.0, 'end_time': 25.463845, 'path': None, 'start_time': 0.0}\n",
      "{'host_id': 'H1XxUZAOT34', 'event_id': UUID('32ba4c54-99b5-11ef-a0e4-fcf8aedaa025'), 'user_id': UUID('ad99fbe2-9616-11ef-8b98-fcf8aedaa025'), 'complete': False, 'duration': 500.0, 'end_time': 21.298225967575075, 'path': None, 'start_time': 0.0}\n"
     ]
    }
   ],
   "source": [
    "keyspace = settings.keyspace\n",
    "q = WatchEvent.objects.all()\n",
    "query_str = str(q._select_query())\n",
    "query_str\n",
    "q_r = session.execute(query_str)\n",
    "for item in q_r.all():\n",
    "    print(item)\n",
    "    "
   ]
  },
  {
   "cell_type": "code",
   "execution_count": 40,
   "id": "0fa8f18f-214e-457c-994c-d7942f56fbc3",
   "metadata": {},
   "outputs": [],
   "source": [
    "model_name = \"watch_event\""
   ]
  },
  {
   "cell_type": "code",
   "execution_count": null,
   "id": "f89ca7e4-65b8-4051-aa08-5149bfa2026c",
   "metadata": {},
   "outputs": [],
   "source": [
    "cmd = f\"DROP TABLE IF EXISTS {keyspace}.{model_name}\"\n"
   ]
  },
  {
   "cell_type": "code",
   "execution_count": null,
   "id": "b8a6a0e2-54ec-4313-84d0-f6ef8082964f",
   "metadata": {},
   "outputs": [],
   "source": [
    "cmd"
   ]
  },
  {
   "cell_type": "code",
   "execution_count": null,
   "id": "957ba6d8-a80a-459e-86e1-9c38d5c4aa0e",
   "metadata": {},
   "outputs": [],
   "source": [
    "session.execute(cmd)"
   ]
  },
  {
   "cell_type": "code",
   "execution_count": null,
   "id": "d3a2a07b-20f8-4333-9f8a-a69bf6ce95ba",
   "metadata": {},
   "outputs": [],
   "source": []
  },
  {
   "cell_type": "code",
   "execution_count": null,
   "id": "2ff37170-8b70-44fb-bc32-fa59a3a2c262",
   "metadata": {},
   "outputs": [],
   "source": []
  },
  {
   "cell_type": "code",
   "execution_count": null,
   "id": "87c696de-6a8c-45ec-9d71-f01695e3e0bb",
   "metadata": {},
   "outputs": [],
   "source": []
  }
 ],
 "metadata": {
  "kernelspec": {
   "display_name": "Python 3 (ipykernel)",
   "language": "python",
   "name": "python3"
  },
  "language_info": {
   "codemirror_mode": {
    "name": "ipython",
    "version": 3
   },
   "file_extension": ".py",
   "mimetype": "text/x-python",
   "name": "python",
   "nbconvert_exporter": "python",
   "pygments_lexer": "ipython3",
   "version": "3.10.12"
  }
 },
 "nbformat": 4,
 "nbformat_minor": 5
}
