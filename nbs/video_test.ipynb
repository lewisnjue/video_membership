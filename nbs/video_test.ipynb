{
 "cells": [
  {
   "cell_type": "code",
   "execution_count": 1,
   "id": "545e1bc5-9c3e-448a-9768-024f5fc407c3",
   "metadata": {},
   "outputs": [
    {
     "name": "stdout",
     "output_type": "stream",
     "text": [
      "'expelimentiong with jwt.ipynb'\t\t    'users and analyze features.ipynb'\n",
      " requirements.dev.txt\t\t\t     video_test.ipynb\n",
      "'user data varidation with pydantic.ipynb'\n"
     ]
    }
   ],
   "source": [
    "!ls\n"
   ]
  },
  {
   "cell_type": "code",
   "execution_count": 2,
   "id": "c7d8b013-e6a5-4d6e-9362-5a747cc52b2d",
   "metadata": {},
   "outputs": [
    {
     "name": "stdout",
     "output_type": "stream",
     "text": [
      "/home/lewis/dev/video_membership\n"
     ]
    },
    {
     "name": "stderr",
     "output_type": "stream",
     "text": [
      "/home/lewis/dev/video_membership/env/lib/python3.10/site-packages/IPython/core/magics/osm.py:393: UserWarning: This is now an optional IPython functionality, using bookmarks requires you to install the `pickleshare` library.\n",
      "  bkms = self.shell.db.get('bookmarks', {})\n",
      "/home/lewis/dev/video_membership/env/lib/python3.10/site-packages/IPython/core/magics/osm.py:417: UserWarning: This is now an optional IPython functionality, setting dhist requires you to install the `pickleshare` library.\n",
      "  self.shell.db['dhist'] = compress_dhist(dhist)[-100:]\n"
     ]
    }
   ],
   "source": [
    "%cd ~/dev/video_membership/"
   ]
  },
  {
   "cell_type": "code",
   "execution_count": 3,
   "id": "7db5a7a3-bd5b-4b13-a643-ad5aa2d47408",
   "metadata": {},
   "outputs": [
    {
     "name": "stdout",
     "output_type": "stream",
     "text": [
      "app\t\tenv  pytest.ini        tests\n",
      "connect_bundle\tnbs  requirements.txt  video_membership.code-workspace\n"
     ]
    }
   ],
   "source": [
    "!ls\n"
   ]
  },
  {
   "cell_type": "code",
   "execution_count": 4,
   "id": "6865495c-d2dc-407a-b2fb-9302f2c784d8",
   "metadata": {},
   "outputs": [],
   "source": [
    "from app import db\n",
    "from app.videos.models import Video\n",
    "from cassandra.cqlengine.management import sync_table\n",
    "from app.users.models import User\n"
   ]
  },
  {
   "cell_type": "code",
   "execution_count": 5,
   "id": "45ec8c59-3997-42dd-b69f-a2b3bf0995db",
   "metadata": {},
   "outputs": [],
   "source": [
    "db.get_session()\n",
    "sync_table(Video)\n"
   ]
  },
  {
   "cell_type": "code",
   "execution_count": 6,
   "id": "9977a066-ef5f-4c4d-90f0-4f26af682817",
   "metadata": {},
   "outputs": [],
   "source": [
    "url ='https://www.youtube.com/watch?v=Nllgz51TcLw'\n",
    "\n",
    "user_id =\"ad99fbe2-9616-11ef-8b98-fcf8aedaa025\"\n"
   ]
  },
  {
   "cell_type": "code",
   "execution_count": 7,
   "id": "eb64bcbd-d43c-4dd2-9edf-96bc03a0ee7b",
   "metadata": {},
   "outputs": [],
   "source": [
    "obj = Video.add_video(url,user_id)"
   ]
  },
  {
   "cell_type": "code",
   "execution_count": 8,
   "id": "89b46f72-7c6a-4e1d-8f5d-1937b49df196",
   "metadata": {},
   "outputs": [
    {
     "data": {
      "text/plain": [
       "Video(host_id='Nllgz51TcLw', host_service='youtube', db_id=UUID('b4cc0a14-993a-11ef-aa1f-fcf8aedaa025'), url='https://www.youtube.com/watch?v=Nllgz51TcLw', user_id=UUID('ad99fbe2-9616-11ef-8b98-fcf8aedaa025'))"
      ]
     },
     "execution_count": 8,
     "metadata": {},
     "output_type": "execute_result"
    }
   ],
   "source": [
    "obj"
   ]
  },
  {
   "cell_type": "code",
   "execution_count": null,
   "id": "17e0dcfd-83af-40f2-a7a7-ba65d7ac4f92",
   "metadata": {},
   "outputs": [],
   "source": [
    "obj = Video.add_video("
   ]
  },
  {
   "cell_type": "code",
   "execution_count": null,
   "id": "47f6a527-0ee2-4db2-a23b-4e7d4d35c432",
   "metadata": {},
   "outputs": [],
   "source": []
  },
  {
   "cell_type": "code",
   "execution_count": null,
   "id": "e2ba741e-e550-4a8f-b457-88c38c279f78",
   "metadata": {},
   "outputs": [],
   "source": []
  },
  {
   "cell_type": "code",
   "execution_count": null,
   "id": "f89ca7e4-65b8-4051-aa08-5149bfa2026c",
   "metadata": {},
   "outputs": [],
   "source": []
  }
 ],
 "metadata": {
  "kernelspec": {
   "display_name": "Python 3 (ipykernel)",
   "language": "python",
   "name": "python3"
  },
  "language_info": {
   "codemirror_mode": {
    "name": "ipython",
    "version": 3
   },
   "file_extension": ".py",
   "mimetype": "text/x-python",
   "name": "python",
   "nbconvert_exporter": "python",
   "pygments_lexer": "ipython3",
   "version": "3.10.12"
  }
 },
 "nbformat": 4,
 "nbformat_minor": 5
}
